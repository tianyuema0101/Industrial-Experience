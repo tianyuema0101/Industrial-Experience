{
 "cells": [
  {
   "cell_type": "code",
   "execution_count": 2,
   "metadata": {},
   "outputs": [],
   "source": [
    "import pandas as pd\n",
    "import json\n",
    "import re\n",
    "from geojson import Point, Feature, FeatureCollection, dump"
   ]
  },
  {
   "cell_type": "code",
   "execution_count": 3,
   "metadata": {},
   "outputs": [],
   "source": [
    "df = pd.read_json('volume.json')"
   ]
  },
  {
   "cell_type": "code",
   "execution_count": 4,
   "metadata": {
    "scrolled": true
   },
   "outputs": [
    {
     "name": "stdout",
     "output_type": "stream",
     "text": [
      "<class 'pandas.core.frame.DataFrame'>\n",
      "Int64Index: 53 entries, 0 to 52\n",
      "Data columns (total 2 columns):\n",
      "features    53 non-null object\n",
      "type        53 non-null object\n",
      "dtypes: object(2)\n",
      "memory usage: 1.2+ KB\n"
     ]
    }
   ],
   "source": [
    "df.info()"
   ]
  },
  {
   "cell_type": "code",
   "execution_count": 11,
   "metadata": {},
   "outputs": [
    {
     "data": {
      "text/plain": [
       "53"
      ]
     },
     "execution_count": 11,
     "metadata": {},
     "output_type": "execute_result"
    }
   ],
   "source": [
    "len(df[\"features\"])"
   ]
  },
  {
   "cell_type": "code",
   "execution_count": 26,
   "metadata": {},
   "outputs": [
    {
     "data": {
      "text/plain": [
       "dict"
      ]
     },
     "execution_count": 26,
     "metadata": {},
     "output_type": "execute_result"
    }
   ],
   "source": [
    "type(df[\"features\"][0])"
   ]
  },
  {
   "cell_type": "code",
   "execution_count": 34,
   "metadata": {},
   "outputs": [
    {
     "data": {
      "text/plain": [
       "53"
      ]
     },
     "execution_count": 34,
     "metadata": {},
     "output_type": "execute_result"
    }
   ],
   "source": [
    "len(df[\"features\"])"
   ]
  },
  {
   "cell_type": "code",
   "execution_count": 6,
   "metadata": {},
   "outputs": [],
   "source": [
    "volume = re.compile(r\"[^0-9.](\\d+.\\d+)[^0-9.]\")"
   ]
  },
  {
   "cell_type": "code",
   "execution_count": 53,
   "metadata": {},
   "outputs": [
    {
     "data": {
      "text/plain": [
       "False"
      ]
     },
     "execution_count": 53,
     "metadata": {},
     "output_type": "execute_result"
    }
   ],
   "source": [
    "float(volume.findall(str(df[\"features\"][0]['properties'][\"description\"]))[0]) > 600"
   ]
  },
  {
   "cell_type": "code",
   "execution_count": 37,
   "metadata": {},
   "outputs": [
    {
     "data": {
      "text/plain": [
       "{u'geometry': {u'coordinates': [144.966698, -37.815852], u'type': u'Point'},\n",
       " u'properties': {u'description': u'<p><strong>Volume:0.0</p>'},\n",
       " u'type': u'Feature'}"
      ]
     },
     "execution_count": 37,
     "metadata": {},
     "output_type": "execute_result"
    }
   ],
   "source": [
    "df[\"features\"][0]"
   ]
  },
  {
   "cell_type": "code",
   "execution_count": 13,
   "metadata": {
    "scrolled": true
   },
   "outputs": [],
   "source": [
    "big = []\n",
    "medium = []\n",
    "small = []\n",
    "for i in range(len(df[\"features\"])):\n",
    "    tmp = float(volume.findall(str(df[\"features\"][i]['properties'][\"description\"]))[0])\n",
    "    if tmp > 700:\n",
    "        big.append(df[\"features\"][i]) \n",
    "    elif tmp <= 700 and tmp > 300:\n",
    "        medium.append(df[\"features\"][i])\n",
    "    else:\n",
    "        small.append(df[\"features\"][i])"
   ]
  },
  {
   "cell_type": "code",
   "execution_count": 14,
   "metadata": {},
   "outputs": [
    {
     "name": "stdout",
     "output_type": "stream",
     "text": [
      "15,13,25\n"
     ]
    }
   ],
   "source": [
    "print('%s,%s,%s' % (len(big),len(medium),len(small)))"
   ]
  },
  {
   "cell_type": "code",
   "execution_count": 16,
   "metadata": {},
   "outputs": [
    {
     "name": "stdout",
     "output_type": "stream",
     "text": [
      "{u'geometry': {u'type': u'Point', u'coordinates': [144.966698, -37.815852]}, u'type': u'Feature', u'properties': {u'description': u'<p><strong>Volume:0.0</p>'}}\n",
      "{u'geometry': {u'type': u'Point', u'coordinates': [144.974818, -37.815048]}, u'type': u'Feature', u'properties': {u'description': u'<p><strong>Volume:171.99</p>'}}\n",
      "{u'geometry': {u'type': u'Point', u'coordinates': [144.963654, -37.802688]}, u'type': u'Feature', u'properties': {u'description': u'<p><strong>Volume:134.3</p>'}}\n",
      "{u'geometry': {u'type': u'Point', u'coordinates': [144.959346, -37.808418]}, u'type': u'Feature', u'properties': {u'description': u'<p><strong>Volume:111.87</p>'}}\n",
      "{u'geometry': {u'type': u'Point', u'coordinates': [144.947179, -37.823697]}, u'type': u'Feature', u'properties': {u'description': u'<p><strong>Volume:185.01</p>'}}\n",
      "{u'geometry': {u'type': u'Point', u'coordinates': [144.956111, -37.809284]}, u'type': u'Feature', u'properties': {u'description': u'<p><strong>Volume:131.0</p>'}}\n",
      "{u'geometry': {u'type': u'Point', u'coordinates': [144.939174, -37.81525]}, u'type': u'Feature', u'properties': {u'description': u'<p><strong>Volume:116.25</p>'}}\n",
      "{u'geometry': {u'type': u'Point', u'coordinates': [144.972235, -37.809264]}, u'type': u'Feature', u'properties': {u'description': u'<p><strong>Volume:293.05</p>'}}\n",
      "{u'geometry': {u'type': u'Point', u'coordinates': [144.964194, -37.798342]}, u'type': u'Feature', u'properties': {u'description': u'<p><strong>Volume:160.85</p>'}}\n",
      "{u'geometry': {u'type': u'Point', u'coordinates': [144.963782, -37.802252]}, u'type': u'Feature', u'properties': {u'description': u'<p><strong>Volume:103.57</p>'}}\n",
      "{u'geometry': {u'type': u'Point', u'coordinates': [144.967213, -37.798475]}, u'type': u'Feature', u'properties': {u'description': u'<p><strong>Volume:212.66</p>'}}\n",
      "{u'geometry': {u'type': u'Point', u'coordinates': [144.970204, -37.814369]}, u'type': u'Feature', u'properties': {u'description': u'<p><strong>Volume:235.66</p>'}}\n",
      "{u'geometry': {u'type': u'Point', u'coordinates': [144.956343, -37.811616]}, u'type': u'Feature', u'properties': {u'description': u'<p><strong>Volume:0.0</p>'}}\n",
      "{u'geometry': {u'type': u'Point', u'coordinates': [144.946362, -37.818074]}, u'type': u'Feature', u'properties': {u'description': u'<p><strong>Volume:186.93</p>'}}\n",
      "{u'geometry': {u'type': u'Point', u'coordinates': [144.96392, -37.800391]}, u'type': u'Feature', u'properties': {u'description': u'<p><strong>Volume:187.53</p>'}}\n",
      "{u'geometry': {u'type': u'Point', u'coordinates': [144.955809, -37.807495]}, u'type': u'Feature', u'properties': {u'description': u'<p><strong>Volume:220.44</p>'}}\n",
      "{u'geometry': {u'type': u'Point', u'coordinates': [144.9636, -37.802399]}, u'type': u'Feature', u'properties': {u'description': u'<p><strong>Volume:0.0</p>'}}\n",
      "{u'geometry': {u'type': u'Point', u'coordinates': [144.946014, -37.815018]}, u'type': u'Feature', u'properties': {u'description': u'<p><strong>Volume:218.18</p>'}}\n",
      "{u'geometry': {u'type': u'Point', u'coordinates': [144.966628, -37.803065]}, u'type': u'Feature', u'properties': {u'description': u'<p><strong>Volume:212.66</p>'}}\n",
      "{u'geometry': {u'type': u'Point', u'coordinates': [144.973991, -37.815413]}, u'type': u'Feature', u'properties': {u'description': u'<p><strong>Volume:132.76</p>'}}\n",
      "{u'geometry': {u'type': u'Point', u'coordinates': [144.973062, -37.813492]}, u'type': u'Feature', u'properties': {u'description': u'<p><strong>Volume:294.31</p>'}}\n",
      "{u'geometry': {u'type': u'Point', u'coordinates': [144.963044, -37.819738]}, u'type': u'Feature', u'properties': {u'description': u'<p><strong>Volume:0.0</p>'}}\n",
      "{u'geometry': {u'type': u'Point', u'coordinates': [144.96734, -37.81732]}, u'type': u'Feature', u'properties': {u'description': u'<p><strong>Volume:0.0</p>'}}\n",
      "{u'geometry': {u'type': u'Point', u'coordinates': [144.964465, -37.796868]}, u'type': u'Feature', u'properties': {u'description': u'<p><strong>Volume:85.57</p>'}}\n",
      "{u'geometry': {u'type': u'Point', u'coordinates': [144.958603, -37.806216]}, u'type': u'Feature', u'properties': {u'description': u'<p><strong>Volume:239.96</p>'}}\n"
     ]
    }
   ],
   "source": [
    "for item in small:\n",
    "    print item"
   ]
  },
  {
   "cell_type": "code",
   "execution_count": 17,
   "metadata": {
    "scrolled": true
   },
   "outputs": [],
   "source": [
    "feature_collection = FeatureCollection(big)\n",
    "with open('big.geojson', 'w') as f:\n",
    "   dump(feature_collection, f)"
   ]
  },
  {
   "cell_type": "code",
   "execution_count": 18,
   "metadata": {},
   "outputs": [],
   "source": [
    "feature_collection = FeatureCollection(small)\n",
    "with open('small.geojson', 'w') as f:\n",
    "   dump(feature_collection, f)"
   ]
  },
  {
   "cell_type": "code",
   "execution_count": 19,
   "metadata": {},
   "outputs": [],
   "source": [
    "feature_collection = FeatureCollection(medium)\n",
    "with open('medium.geojson', 'w') as f:\n",
    "   dump(feature_collection, f)"
   ]
  }
 ],
 "metadata": {
  "kernelspec": {
   "display_name": "Python [default]",
   "language": "python",
   "name": "python2"
  },
  "language_info": {
   "codemirror_mode": {
    "name": "ipython",
    "version": 2
   },
   "file_extension": ".py",
   "mimetype": "text/x-python",
   "name": "python",
   "nbconvert_exporter": "python",
   "pygments_lexer": "ipython2",
   "version": "2.7.14"
  }
 },
 "nbformat": 4,
 "nbformat_minor": 2
}
